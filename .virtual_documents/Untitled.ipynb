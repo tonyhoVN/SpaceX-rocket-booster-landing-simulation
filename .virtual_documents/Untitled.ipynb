import torch 
import torch.nn as nn
import numpy
# Set up device
device =  torch.device('cuda' if torch.cuda.is_available() else 'cpu')
print('Using device:', device)


print(torch.cuda.memory_summary())
a = torch.rand(10, device=device)
print(torch.cuda.memory_summary())
del a
print(torch.cuda.memory_summary())
torch.cuda.empty_cache()
print(torch.cuda.memory_summary())



# Define a simple model
class SimpleModel(nn.Module):
    def __init__(self):
        super(SimpleModel, self).__init__()
        self.linear = nn.Linear(10, 1)

    def forward(self, x):
        return self.linear(x)

simple_model = SimpleModel().to(device)
x = torch.rand(10, device=device)
a = simple_model(x).to("cpu")
torch.cuda.empty_cache()
a


x = torch.rand(10, device=device)
b = simple_model(x)
b
